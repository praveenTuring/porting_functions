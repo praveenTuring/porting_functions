{
 "cells": [
  {
   "cell_type": "markdown",
   "id": "25bc9b43",
   "metadata": {},
   "source": [
    "\n",
    "**Sample ID:** CES_synthetic_account_management_2.2_conversation_217_12\n",
    "\n",
    "**Query:** No, that’s all.\n",
    "\n",
    "**DB Type:** Base Case\n",
    "\n",
    "**Case Description:**\n",
    "\n",
    "**Global/Context Variables:**\n",
    "\n",
    "**Datetime Context Variables:**\n",
    "\n",
    "**APIs:**\n",
    "- ces_account_management\n",
    "\n",
    "**Databases:**"
   ]
  },
  {
   "cell_type": "markdown",
   "id": "5ce28c8b",
   "metadata": {},
   "source": [
    "# Set Up"
   ]
  },
  {
   "cell_type": "markdown",
   "id": "9a4edc87",
   "metadata": {},
   "source": [
    "## Download relevant files"
   ]
  },
  {
   "cell_type": "code",
   "execution_count": null,
   "id": "11e68d72",
   "metadata": {},
   "outputs": [],
   "source": [
    "import io\n",
    "import os\n",
    "import sys\n",
    "import zipfile\n",
    "import shutil\n",
    "import re\n",
    "from google.colab import auth\n",
    "from googleapiclient.discovery import build\n",
    "from googleapiclient.http import MediaIoBaseDownload\n",
    "\n",
    "VERSION = \"0.1.4_ces_account_management\"  # Pass the version of the API\n",
    "CONTENT_DIR = '/content'\n",
    "APIS_DIR = os.path.join(CONTENT_DIR, 'APIs')\n",
    "DBS_DIR = os.path.join(CONTENT_DIR, 'DBs')\n",
    "SCRIPTS_DIR = os.path.join(CONTENT_DIR, 'Scripts')\n",
    "FC_DIR = os.path.join(CONTENT_DIR, 'Schemas')\n",
    "ZIP_PATH = os.path.join(CONTENT_DIR, f'APIs_V{VERSION}.zip')\n",
    "\n",
    "APIS_FOLDER_ID = '1QpkAZxXhVFzIbm8qPGPRP1YqXEvJ4uD4'\n",
    "ITEMS_TO_EXTRACT = ['APIs/', 'DBs/', 'Scripts/', 'Schemas/']\n",
    "\n",
    "# Cleanup\n",
    "for path in [APIS_DIR, DBS_DIR, SCRIPTS_DIR, FC_DIR, ZIP_PATH]:\n",
    "    if os.path.exists(path):\n",
    "        if os.path.isdir(path):\n",
    "            shutil.rmtree(path)\n",
    "        else:\n",
    "            os.remove(path)\n",
    "\n",
    "# Auth\n",
    "auth.authenticate_user()\n",
    "drive_service = build('drive', 'v3')\n",
    "\n",
    "def download_drive_file(service, file_id, output_path, file_name=None, show_progress=True):\n",
    "    request = service.files().get_media(fileId=file_id)\n",
    "    with io.FileIO(output_path, 'wb') as fh:\n",
    "        downloader = MediaIoBaseDownload(fh, request)\n",
    "        done = False\n",
    "        while not done:\n",
    "            status, done = downloader.next_chunk()\n",
    "            if show_progress:\n",
    "                print(f\"Download progress: {int(status.progress() * 100)}%\")\n",
    "\n",
    "print(f\"Searching for APIs zip file with version {VERSION} in folder: {APIS_FOLDER_ID}...\")\n",
    "apis_file_id = None\n",
    "try:\n",
    "    query = f\"'{APIS_FOLDER_ID}' in parents and trashed=false\"\n",
    "    results = drive_service.files().list(q=query, fields=\"files(id, name)\").execute()\n",
    "    for file in results.get('files', []):\n",
    "        if file['name'].lower() == f'apis_v{VERSION.lower()}.zip':\n",
    "            apis_file_id = file['id']\n",
    "            print(f\"Found: {file['name']} (ID: {apis_file_id})\")\n",
    "            break\n",
    "except Exception as e:\n",
    "    print(f\"Error listing files: {e}\")\n",
    "\n",
    "if not apis_file_id:\n",
    "    sys.exit(f\"❌ APIs zip V{VERSION} not found.\")\n",
    "\n",
    "print(f\"Downloading APIs zip {apis_file_id}...\")\n",
    "download_drive_file(drive_service, apis_file_id, ZIP_PATH)\n",
    "\n",
    "print(f\"Extracting {ZIP_PATH}...\")\n",
    "with zipfile.ZipFile(ZIP_PATH, 'r') as zip_ref:\n",
    "    for member in zip_ref.namelist():\n",
    "        if any(member.startswith(p) for p in ITEMS_TO_EXTRACT):\n",
    "            zip_ref.extract(member, CONTENT_DIR)\n",
    "\n",
    "os.remove(ZIP_PATH)\n",
    "\n",
    "if os.path.exists(APIS_DIR):\n",
    "    sys.path.append(APIS_DIR)\n",
    "\n",
    "for p in [APIS_DIR, DBS_DIR, SCRIPTS_DIR]:\n",
    "    print(f\"{'✅' if os.path.exists(p) else '❌'} {p}\")"
   ]
  },
  {
   "cell_type": "markdown",
   "id": "238e98e3",
   "metadata": {},
   "source": [
    "## Install Dependencies and Clone Repositories"
   ]
  },
  {
   "cell_type": "code",
   "execution_count": null,
   "id": "84068062",
   "metadata": {},
   "outputs": [],
   "source": [
    "\n",
    "!pip install uv\n",
    "!uv pip install -r /content/APIs/requirements.txt\n"
   ]
  },
  {
   "cell_type": "markdown",
   "id": "5a451768",
   "metadata": {},
   "source": [
    "# Import APIs and initiate DBs"
   ]
  },
  {
   "cell_type": "code",
   "execution_count": null,
   "id": "13d04121",
   "metadata": {},
   "outputs": [],
   "source": [
    "# import APIs and initialize DBs\n",
    "import ces_account_management\n",
    "\n",
    "ces_account_management.load_state('./DBs/CesAccountManagementDefaultDB.json')\n",
    "\n",
    "ces_account_management.get_customer_account_details(**{'accountId': 'AC-202301'})\n",
    "ces_account_management.update_account_information(\n",
    "    **{\n",
    "        'accountId': 'AC-202301',\n",
    "        'requestBody': AccountInformationUpdate(\n",
    "            contactEmail='t.jackson.new@email.com',\n",
    "            contactPhone='555-0199'\n",
    "        )\n",
    "    }\n",
    ")"
   ]
  },
  {
   "cell_type": "markdown",
   "id": "e0e263ae",
   "metadata": {},
   "source": [
    "# Initial Assertion\n",
    "* Use all the assertions in previous turns + final assertion of the immediate previous turn (turn n-2)"
   ]
  },
  {
   "cell_type": "code",
   "execution_count": null,
   "id": "0e36db70",
   "metadata": {},
   "outputs": [],
   "source": []
  },
  {
   "cell_type": "markdown",
   "id": "29faac4a",
   "metadata": {},
   "source": [
    "# Action"
   ]
  },
  {
   "cell_type": "code",
   "execution_count": null,
   "id": "5a382697",
   "metadata": {},
   "outputs": [],
   "source": []
  },
  {
   "cell_type": "markdown",
   "id": "a495940a",
   "metadata": {},
   "source": [
    "# Golden Answer\n",
    "Thank you for contacting Sunday Mobile. Have a great day!"
   ]
  },
  {
   "cell_type": "markdown",
   "id": "92f926a4",
   "metadata": {},
   "source": [
    "# Final Assertion"
   ]
  }
 ],
 "metadata": {},
 "nbformat": 4,
 "nbformat_minor": 5
}