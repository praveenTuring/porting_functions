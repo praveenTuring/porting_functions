{
 "cells": [
  {
   "cell_type": "markdown",
   "id": "39e4a8aa",
   "metadata": {},
   "source": [
    "\n",
    "**Sample ID:** CES_synthetic_account_management_2.2_conversation_219_10\n",
    "\n",
    "**Query:** I would like receive details only via emails.\n",
    "\n",
    "**DB Type:** Base Case\n",
    "\n",
    "**Case Description:**\n",
    "\n",
    "**Global/Context Variables:**\n",
    "\n",
    "**Datetime Context Variables:**\n",
    "\n",
    "**APIs:**\n",
    "- ces_account_management\n",
    "\n",
    "**Databases:**"
   ]
  },
  {
   "cell_type": "markdown",
   "id": "81b0baae",
   "metadata": {},
   "source": [
    "# Set Up"
   ]
  },
  {
   "cell_type": "markdown",
   "id": "555c1c5b",
   "metadata": {},
   "source": [
    "## Download relevant files"
   ]
  },
  {
   "cell_type": "code",
   "execution_count": null,
   "id": "187cb290",
   "metadata": {},
   "outputs": [],
   "source": [
    "import io\n",
    "import os\n",
    "import sys\n",
    "import zipfile\n",
    "import shutil\n",
    "import re\n",
    "from google.colab import auth\n",
    "from googleapiclient.discovery import build\n",
    "from googleapiclient.http import MediaIoBaseDownload\n",
    "\n",
    "VERSION = \"0.1.4_ces_account_management\"  # Pass the version of the API\n",
    "CONTENT_DIR = '/content'\n",
    "APIS_DIR = os.path.join(CONTENT_DIR, 'APIs')\n",
    "DBS_DIR = os.path.join(CONTENT_DIR, 'DBs')\n",
    "SCRIPTS_DIR = os.path.join(CONTENT_DIR, 'Scripts')\n",
    "FC_DIR = os.path.join(CONTENT_DIR, 'Schemas')\n",
    "ZIP_PATH = os.path.join(CONTENT_DIR, f'APIs_V{VERSION}.zip')\n",
    "\n",
    "APIS_FOLDER_ID = '1QpkAZxXhVFzIbm8qPGPRP1YqXEvJ4uD4'\n",
    "ITEMS_TO_EXTRACT = ['APIs/', 'DBs/', 'Scripts/', 'Schemas/']\n",
    "\n",
    "# Cleanup\n",
    "for path in [APIS_DIR, DBS_DIR, SCRIPTS_DIR, FC_DIR, ZIP_PATH]:\n",
    "    if os.path.exists(path):\n",
    "        if os.path.isdir(path):\n",
    "            shutil.rmtree(path)\n",
    "        else:\n",
    "            os.remove(path)\n",
    "\n",
    "# Auth\n",
    "auth.authenticate_user()\n",
    "drive_service = build('drive', 'v3')\n",
    "\n",
    "def download_drive_file(service, file_id, output_path, file_name=None, show_progress=True):\n",
    "    request = service.files().get_media(fileId=file_id)\n",
    "    with io.FileIO(output_path, 'wb') as fh:\n",
    "        downloader = MediaIoBaseDownload(fh, request)\n",
    "        done = False\n",
    "        while not done:\n",
    "            status, done = downloader.next_chunk()\n",
    "            if show_progress:\n",
    "                print(f\"Download progress: {int(status.progress() * 100)}%\")\n",
    "\n",
    "print(f\"Searching for APIs zip file with version {VERSION} in folder: {APIS_FOLDER_ID}...\")\n",
    "apis_file_id = None\n",
    "try:\n",
    "    query = f\"'{APIS_FOLDER_ID}' in parents and trashed=false\"\n",
    "    results = drive_service.files().list(q=query, fields=\"files(id, name)\").execute()\n",
    "    for file in results.get('files', []):\n",
    "        if file['name'].lower() == f'apis_v{VERSION.lower()}.zip':\n",
    "            apis_file_id = file['id']\n",
    "            print(f\"Found: {file['name']} (ID: {apis_file_id})\")\n",
    "            break\n",
    "except Exception as e:\n",
    "    print(f\"Error listing files: {e}\")\n",
    "\n",
    "if not apis_file_id:\n",
    "    sys.exit(f\"❌ APIs zip V{VERSION} not found.\")\n",
    "\n",
    "print(f\"Downloading APIs zip {apis_file_id}...\")\n",
    "download_drive_file(drive_service, apis_file_id, ZIP_PATH)\n",
    "\n",
    "print(f\"Extracting {ZIP_PATH}...\")\n",
    "with zipfile.ZipFile(ZIP_PATH, 'r') as zip_ref:\n",
    "    for member in zip_ref.namelist():\n",
    "        if any(member.startswith(p) for p in ITEMS_TO_EXTRACT):\n",
    "            zip_ref.extract(member, CONTENT_DIR)\n",
    "\n",
    "os.remove(ZIP_PATH)\n",
    "\n",
    "if os.path.exists(APIS_DIR):\n",
    "    sys.path.append(APIS_DIR)\n",
    "\n",
    "for p in [APIS_DIR, DBS_DIR, SCRIPTS_DIR]:\n",
    "    print(f\"{'✅' if os.path.exists(p) else '❌'} {p}\")"
   ]
  },
  {
   "cell_type": "markdown",
   "id": "5cf2b94e",
   "metadata": {},
   "source": [
    "## Install Dependencies and Clone Repositories"
   ]
  },
  {
   "cell_type": "code",
   "execution_count": null,
   "id": "e4990a14",
   "metadata": {},
   "outputs": [],
   "source": [
    "\n",
    "!pip install uv\n",
    "!uv pip install -r /content/APIs/requirements.txt\n"
   ]
  },
  {
   "cell_type": "markdown",
   "id": "82205a9b",
   "metadata": {},
   "source": [
    "# Import APIs and initiate DBs"
   ]
  },
  {
   "cell_type": "code",
   "execution_count": null,
   "id": "e74fa11c",
   "metadata": {},
   "outputs": [],
   "source": [
    "# import APIs and initialize DBs\n",
    "import ces_account_management\n",
    "\n",
    "ces_account_management.load_state('./DBs/CesAccountManagementDefaultDB.json')\n",
    "\n",
    "ces_account_management.get_customer_account_details(**{'accountId': 'ACC99901'})"
   ]
  },
  {
   "cell_type": "markdown",
   "id": "eb74ab79",
   "metadata": {},
   "source": [
    "# Initial Assertion\n",
    "1. Assert that there exists an account details record. \n",
    "2. Assert that the customer name associated with the provided identifier matches. \n",
    "3. Assert that the account information field the user wants to update already exists.\n",
    "4. Assert that the new account information doesn't present in the account details."
   ]
  },
  {
   "cell_type": "code",
   "execution_count": null,
   "id": "4fb47db6",
   "metadata": {},
   "outputs": [],
   "source": [
    "import ces_account_management\n",
    "from Scripts.assertions_utils import *\n",
    "\n",
    "# Set error mode to dict\n",
    "from common_utils import get_error_manager\n",
    "\n",
    "error_manager = get_error_manager()\n",
    "error_manager.set_error_mode(\"error_dict\")\n",
    "\n",
    "# local Variable\n",
    "accountId = ''\n",
    "# phone_no = '' # if phone number is given in place of account ID\n",
    "customerName = ''\n",
    "\n",
    "# list of data keys requested by the user\n",
    "inquiryInfo = ['']\n",
    "\n",
    "# Get account detail from accountId provided\n",
    "account_details = ces_account_management.get_customer_account_details(accountId=accountId)\n",
    "\n",
    "# 1.  Assert that there exists an account details record with the provided identifier.\n",
    "assert not account_details.get('exceptionType'), f'Account ID : {accountId} does not exist.' # for account ID\n",
    "# assert not account_details.get('exceptionType'), f'Unable to find account details with the provided phone number: {phone_no}.' # for phone number\n",
    "\n",
    "# 2. Assert that the customer name associated with the provided identifier matches the name confirmed by the user.\n",
    "assert compare_strings(account_details.get('customerName'), customerName), f'Customer name : {customerName} does not match.'\n",
    "\n",
    "# 3. Assert that the required information present in the account detail\n",
    "for info in inquiryInfo:\n",
    "  value = account_details.get(info)\n",
    "  assert value is not None and not compare_strings(value,'') and not compare_strings(value, 'None'), 'Requested information does not present in account details.'\n",
    "\n",
    "# 4. Assert that the new account information doesn't present in the account details.\n",
    "# ------ TO BE ADDED BY THE RATER --------"
   ]
  },
  {
   "cell_type": "markdown",
   "id": "f5e56fe3",
   "metadata": {},
   "source": [
    "# Action"
   ]
  },
  {
   "cell_type": "code",
   "execution_count": null,
   "id": "eed36950",
   "metadata": {},
   "outputs": [],
   "source": []
  },
  {
   "cell_type": "markdown",
   "id": "092f8a57",
   "metadata": {},
   "source": [
    "# Golden Answer\n",
    "Okay, I have your communication preference as only emails and no sms. Shall I go ahead and update this for you?"
   ]
  },
  {
   "cell_type": "markdown",
   "id": "d6eb60cb",
   "metadata": {},
   "source": [
    "# Final Assertion"
   ]
  }
 ],
 "metadata": {},
 "nbformat": 4,
 "nbformat_minor": 5
}