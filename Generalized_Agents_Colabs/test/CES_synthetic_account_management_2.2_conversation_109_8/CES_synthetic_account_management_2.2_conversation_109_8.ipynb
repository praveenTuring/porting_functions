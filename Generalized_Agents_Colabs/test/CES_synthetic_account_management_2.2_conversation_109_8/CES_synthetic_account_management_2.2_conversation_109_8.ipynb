{
 "cells": [
  {
   "cell_type": "markdown",
   "id": "95b42679",
   "metadata": {},
   "source": [
    "\n",
    "**Sample ID:** CES_synthetic_account_management_2.2_conversation_109_8\n",
    "\n",
    "**Query:** Can you help me book a flight to Hawaii?\n",
    "\n",
    "**DB Type:** Base Case\n",
    "\n",
    "**Case Description:**\n",
    "\n",
    "**Global/Context Variables:**\n",
    "\n",
    "**Datetime Context Variables:**\n",
    "\n",
    "**APIs:**\n",
    "- ces_account_management\n",
    "\n",
    "**Databases:**"
   ]
  },
  {
   "cell_type": "markdown",
   "id": "1fcd5506",
   "metadata": {},
   "source": [
    "# Set Up"
   ]
  },
  {
   "cell_type": "markdown",
   "id": "83157549",
   "metadata": {},
   "source": [
    "## Download relevant files"
   ]
  },
  {
   "cell_type": "code",
   "execution_count": null,
   "id": "764bcddd",
   "metadata": {},
   "outputs": [],
   "source": [
    "import io\n",
    "import os\n",
    "import sys\n",
    "import zipfile\n",
    "import shutil\n",
    "import re\n",
    "from google.colab import auth\n",
    "from googleapiclient.discovery import build\n",
    "from googleapiclient.http import MediaIoBaseDownload\n",
    "\n",
    "VERSION = \"0.1.4_ces_account_management\"  # Pass the version of the API\n",
    "CONTENT_DIR = '/content'\n",
    "APIS_DIR = os.path.join(CONTENT_DIR, 'APIs')\n",
    "DBS_DIR = os.path.join(CONTENT_DIR, 'DBs')\n",
    "SCRIPTS_DIR = os.path.join(CONTENT_DIR, 'Scripts')\n",
    "FC_DIR = os.path.join(CONTENT_DIR, 'Schemas')\n",
    "ZIP_PATH = os.path.join(CONTENT_DIR, f'APIs_V{VERSION}.zip')\n",
    "\n",
    "APIS_FOLDER_ID = '1QpkAZxXhVFzIbm8qPGPRP1YqXEvJ4uD4'\n",
    "ITEMS_TO_EXTRACT = ['APIs/', 'DBs/', 'Scripts/', 'Schemas/']\n",
    "\n",
    "# Cleanup\n",
    "for path in [APIS_DIR, DBS_DIR, SCRIPTS_DIR, FC_DIR, ZIP_PATH]:\n",
    "    if os.path.exists(path):\n",
    "        if os.path.isdir(path):\n",
    "            shutil.rmtree(path)\n",
    "        else:\n",
    "            os.remove(path)\n",
    "\n",
    "# Auth\n",
    "auth.authenticate_user()\n",
    "drive_service = build('drive', 'v3')\n",
    "\n",
    "def download_drive_file(service, file_id, output_path, file_name=None, show_progress=True):\n",
    "    request = service.files().get_media(fileId=file_id)\n",
    "    with io.FileIO(output_path, 'wb') as fh:\n",
    "        downloader = MediaIoBaseDownload(fh, request)\n",
    "        done = False\n",
    "        while not done:\n",
    "            status, done = downloader.next_chunk()\n",
    "            if show_progress:\n",
    "                print(f\"Download progress: {int(status.progress() * 100)}%\")\n",
    "\n",
    "print(f\"Searching for APIs zip file with version {VERSION} in folder: {APIS_FOLDER_ID}...\")\n",
    "apis_file_id = None\n",
    "try:\n",
    "    query = f\"'{APIS_FOLDER_ID}' in parents and trashed=false\"\n",
    "    results = drive_service.files().list(q=query, fields=\"files(id, name)\").execute()\n",
    "    for file in results.get('files', []):\n",
    "        if file['name'].lower() == f'apis_v{VERSION.lower()}.zip':\n",
    "            apis_file_id = file['id']\n",
    "            print(f\"Found: {file['name']} (ID: {apis_file_id})\")\n",
    "            break\n",
    "except Exception as e:\n",
    "    print(f\"Error listing files: {e}\")\n",
    "\n",
    "if not apis_file_id:\n",
    "    sys.exit(f\"❌ APIs zip V{VERSION} not found.\")\n",
    "\n",
    "print(f\"Downloading APIs zip {apis_file_id}...\")\n",
    "download_drive_file(drive_service, apis_file_id, ZIP_PATH)\n",
    "\n",
    "print(f\"Extracting {ZIP_PATH}...\")\n",
    "with zipfile.ZipFile(ZIP_PATH, 'r') as zip_ref:\n",
    "    for member in zip_ref.namelist():\n",
    "        if any(member.startswith(p) for p in ITEMS_TO_EXTRACT):\n",
    "            zip_ref.extract(member, CONTENT_DIR)\n",
    "\n",
    "os.remove(ZIP_PATH)\n",
    "\n",
    "if os.path.exists(APIS_DIR):\n",
    "    sys.path.append(APIS_DIR)\n",
    "\n",
    "for p in [APIS_DIR, DBS_DIR, SCRIPTS_DIR]:\n",
    "    print(f\"{'✅' if os.path.exists(p) else '❌'} {p}\")"
   ]
  },
  {
   "cell_type": "markdown",
   "id": "fa40d22c",
   "metadata": {},
   "source": [
    "## Install Dependencies and Clone Repositories"
   ]
  },
  {
   "cell_type": "code",
   "execution_count": null,
   "id": "94ff065f",
   "metadata": {},
   "outputs": [],
   "source": [
    "\n",
    "!pip install uv\n",
    "!uv pip install -r /content/APIs/requirements.txt\n",
    "!uv pip install jsonpath_ng\n"
   ]
  },
  {
   "cell_type": "markdown",
   "id": "40204bf4",
   "metadata": {},
   "source": [
    "# Import APIs and initiate DBs"
   ]
  },
  {
   "cell_type": "code",
   "execution_count": null,
   "id": "88ce418e",
   "metadata": {},
   "outputs": [],
   "source": [
    "# import APIs and initialize DBs\n",
    "from ces_account_management import *\n",
    "import ces_account_management\n",
    "\n",
    "def download_json_from_gdrive(gdrive_url: str, output_filename: str = \"CESInitialDB.json\"):\n",
    "    match = re.search(r\"/d/([a-zA-Z0-9_-]+)\", gdrive_url)\n",
    "    if not match:\n",
    "        raise ValueError(\"Invalid Google Drive link format.\")\n",
    "    file_id = match.group(1)\n",
    "\n",
    "    # Download the file\n",
    "    request = drive_service.files().get_media(fileId=file_id)\n",
    "    fh = io.FileIO(output_filename, \"wb\")\n",
    "    downloader = MediaIoBaseDownload(fh, request)\n",
    "\n",
    "    done = False\n",
    "    while not done:\n",
    "        status, done = downloader.next_chunk()\n",
    "\n",
    "    print(f\"Downloaded: {output_filename}\")\n",
    "\n",
    "\n",
    "gdrive_link = \"https://drive.google.com/file/d/1r6s2dREi46wMTUTTpQnSvbpqFc-XUCwK/view\"\n",
    "download_json_from_gdrive(gdrive_link)\n",
    "\n",
    "ces_account_management.load_state('CESInitialDB.json')\n",
    "\n",
    "get_customer_account_details(**{'accountId': '(555) 314-1592'})"
   ]
  },
  {
   "cell_type": "markdown",
   "id": "52c54c57",
   "metadata": {},
   "source": [
    "# Initial Assertion"
   ]
  },
  {
   "cell_type": "code",
   "execution_count": null,
   "id": "0bbc5990",
   "metadata": {},
   "outputs": [],
   "source": []
  },
  {
   "cell_type": "markdown",
   "id": "3036bd4c",
   "metadata": {},
   "source": [
    "# Action"
   ]
  },
  {
   "cell_type": "code",
   "execution_count": null,
   "id": "d10c3592",
   "metadata": {},
   "outputs": [],
   "source": []
  },
  {
   "cell_type": "markdown",
   "id": "19cc46b3",
   "metadata": {},
   "source": [
    "# Golden Answer"
   ]
  },
  {
   "cell_type": "markdown",
   "id": "c395713f",
   "metadata": {},
   "source": [
    "I am not able to help with that request. I am the Sunday Mobile Assistant, and I can only provide information about your Sunday Mobile account. Is there anything else I can help you with regarding your mobile account?"
   ]
  },
  {
   "cell_type": "markdown",
   "id": "8ccd849e",
   "metadata": {},
   "source": [
    "# Final Assertion"
   ]
  }
 ],
 "metadata": {},
 "nbformat": 4,
 "nbformat_minor": 5
}