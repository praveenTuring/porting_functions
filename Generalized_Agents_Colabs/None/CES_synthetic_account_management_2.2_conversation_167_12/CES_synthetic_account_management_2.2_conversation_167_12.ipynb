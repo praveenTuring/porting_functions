{
  "cells": [
    {
      "cell_type": "markdown",
      "id": "0c4d59b1",
      "metadata": {
        "id": "0c4d59b1"
      },
      "source": [
        "\n",
        "**Sample ID:** CES_synthetic_account_management_2.2_conversation_167_12\n",
        "\n",
        "**Query:** Yes, I'd like to hear about the promotions.\n",
        "\n",
        "**DB Type:** Base Case\n",
        "\n",
        "**Case Description:**\n",
        "\n",
        "**Global/Context Variables:**\n",
        "\n",
        "**Datetime Context Variables:**\n",
        "\n",
        "**APIs:**\n",
        "\n",
        "**Databases:**"
      ]
    },
    {
      "cell_type": "markdown",
      "id": "e737613d",
      "metadata": {
        "id": "e737613d"
      },
      "source": [
        "# Set Up"
      ]
    },
    {
      "cell_type": "markdown",
      "id": "0b1f44b5",
      "metadata": {
        "id": "0b1f44b5"
      },
      "source": [
        "## Download relevant files"
      ]
    },
    {
      "cell_type": "code",
      "execution_count": 16,
      "id": "f107c8f8",
      "metadata": {
        "id": "f107c8f8",
        "outputId": "220f0b7f-851f-49d0-e8a8-7e415e71a4fc",
        "colab": {
          "base_uri": "https://localhost:8080/"
        }
      },
      "outputs": [
        {
          "output_type": "stream",
          "name": "stdout",
          "text": [
            "Searching for APIs zip file with version 0.1.4_ces_account_management in folder: 1QpkAZxXhVFzIbm8qPGPRP1YqXEvJ4uD4...\n",
            "Found: APIs_V0.1.4_ces_account_management.zip (ID: 1H0uvR0dNS0ndIwWO5ZkPT37iWgrK5v-I)\n",
            "Downloading APIs zip 1H0uvR0dNS0ndIwWO5ZkPT37iWgrK5v-I...\n",
            "Download progress: 100%\n",
            "Extracting /content/APIs_V0.1.4_ces_account_management.zip...\n",
            "✅ /content/APIs\n",
            "✅ /content/DBs\n",
            "✅ /content/Scripts\n"
          ]
        }
      ],
      "source": [
        "import io\n",
        "import os\n",
        "import sys\n",
        "import zipfile\n",
        "import shutil\n",
        "import re\n",
        "from google.colab import auth\n",
        "from googleapiclient.discovery import build\n",
        "from googleapiclient.http import MediaIoBaseDownload\n",
        "\n",
        "VERSION = \"0.1.4_ces_account_management\"  # Pass the version of the API\n",
        "CONTENT_DIR = '/content'\n",
        "APIS_DIR = os.path.join(CONTENT_DIR, 'APIs')\n",
        "DBS_DIR = os.path.join(CONTENT_DIR, 'DBs')\n",
        "SCRIPTS_DIR = os.path.join(CONTENT_DIR, 'Scripts')\n",
        "FC_DIR = os.path.join(CONTENT_DIR, 'Schemas')\n",
        "ZIP_PATH = os.path.join(CONTENT_DIR, f'APIs_V{VERSION}.zip')\n",
        "\n",
        "APIS_FOLDER_ID = '1QpkAZxXhVFzIbm8qPGPRP1YqXEvJ4uD4'\n",
        "ITEMS_TO_EXTRACT = ['APIs/', 'DBs/', 'Scripts/', 'Schemas/']\n",
        "\n",
        "# Cleanup\n",
        "for path in [APIS_DIR, DBS_DIR, SCRIPTS_DIR, FC_DIR, ZIP_PATH]:\n",
        "    if os.path.exists(path):\n",
        "        if os.path.isdir(path):\n",
        "            shutil.rmtree(path)\n",
        "        else:\n",
        "            os.remove(path)\n",
        "\n",
        "# Auth\n",
        "auth.authenticate_user()\n",
        "drive_service = build('drive', 'v3')\n",
        "\n",
        "def download_drive_file(service, file_id, output_path, file_name=None, show_progress=True):\n",
        "    request = service.files().get_media(fileId=file_id)\n",
        "    with io.FileIO(output_path, 'wb') as fh:\n",
        "        downloader = MediaIoBaseDownload(fh, request)\n",
        "        done = False\n",
        "        while not done:\n",
        "            status, done = downloader.next_chunk()\n",
        "            if show_progress:\n",
        "                print(f\"Download progress: {int(status.progress() * 100)}%\")\n",
        "\n",
        "print(f\"Searching for APIs zip file with version {VERSION} in folder: {APIS_FOLDER_ID}...\")\n",
        "apis_file_id = None\n",
        "try:\n",
        "    query = f\"'{APIS_FOLDER_ID}' in parents and trashed=false\"\n",
        "    results = drive_service.files().list(q=query, fields=\"files(id, name)\").execute()\n",
        "    for file in results.get('files', []):\n",
        "        if file['name'].lower() == f'apis_v{VERSION.lower()}.zip':\n",
        "            apis_file_id = file['id']\n",
        "            print(f\"Found: {file['name']} (ID: {apis_file_id})\")\n",
        "            break\n",
        "except Exception as e:\n",
        "    print(f\"Error listing files: {e}\")\n",
        "\n",
        "if not apis_file_id:\n",
        "    sys.exit(f\"❌ APIs zip V{VERSION} not found.\")\n",
        "\n",
        "print(f\"Downloading APIs zip {apis_file_id}...\")\n",
        "download_drive_file(drive_service, apis_file_id, ZIP_PATH)\n",
        "\n",
        "print(f\"Extracting {ZIP_PATH}...\")\n",
        "with zipfile.ZipFile(ZIP_PATH, 'r') as zip_ref:\n",
        "    for member in zip_ref.namelist():\n",
        "        if any(member.startswith(p) for p in ITEMS_TO_EXTRACT):\n",
        "            zip_ref.extract(member, CONTENT_DIR)\n",
        "\n",
        "os.remove(ZIP_PATH)\n",
        "\n",
        "if os.path.exists(APIS_DIR):\n",
        "    sys.path.append(APIS_DIR)\n",
        "\n",
        "for p in [APIS_DIR, DBS_DIR, SCRIPTS_DIR]:\n",
        "    print(f\"{'✅' if os.path.exists(p) else '❌'} {p}\")"
      ]
    },
    {
      "cell_type": "markdown",
      "id": "266df72a",
      "metadata": {
        "id": "266df72a"
      },
      "source": [
        "## Install Dependencies and Clone Repositories"
      ]
    },
    {
      "cell_type": "code",
      "execution_count": 17,
      "id": "104d1736",
      "metadata": {
        "id": "104d1736",
        "outputId": "49db8efb-d6f7-465f-90f0-bd8607b4b32d",
        "colab": {
          "base_uri": "https://localhost:8080/"
        }
      },
      "outputs": [
        {
          "output_type": "stream",
          "name": "stdout",
          "text": [
            "Collecting uv\n",
            "  Downloading uv-0.8.22-py3-none-manylinux_2_17_x86_64.manylinux2014_x86_64.whl.metadata (11 kB)\n",
            "Downloading uv-0.8.22-py3-none-manylinux_2_17_x86_64.manylinux2014_x86_64.whl (21.3 MB)\n",
            "\u001b[2K   \u001b[90m━━━━━━━━━━━━━━━━━━━━━━━━━━━━━━━━━━━━━━━━\u001b[0m \u001b[32m21.3/21.3 MB\u001b[0m \u001b[31m67.3 MB/s\u001b[0m eta \u001b[36m0:00:00\u001b[0m\n",
            "\u001b[?25hInstalling collected packages: uv\n",
            "Successfully installed uv-0.8.22\n",
            "\u001b[2mUsing Python 3.12.11 environment at: /usr\u001b[0m\n",
            "\u001b[2mAudited \u001b[1m49 packages\u001b[0m \u001b[2min 299ms\u001b[0m\u001b[0m\n",
            "\u001b[2mUsing Python 3.12.11 environment at: /usr\u001b[0m\n",
            "\u001b[2mAudited \u001b[1m1 package\u001b[0m \u001b[2min 104ms\u001b[0m\u001b[0m\n"
          ]
        }
      ],
      "source": [
        "\n",
        "!pip install uv\n",
        "!uv pip install -r /content/APIs/requirements.txt\n",
        "!uv pip install jsonpath_ng\n"
      ]
    },
    {
      "cell_type": "markdown",
      "id": "1964e4db",
      "metadata": {
        "id": "1964e4db"
      },
      "source": [
        "# Import APIs and initiate DBs"
      ]
    },
    {
      "cell_type": "code",
      "execution_count": 19,
      "id": "3a94bd52",
      "metadata": {
        "id": "3a94bd52",
        "outputId": "24f99a2a-6dc6-4e47-9c94-9d5f98bd07b4",
        "colab": {
          "base_uri": "https://localhost:8080/",
          "height": 530
        }
      },
      "outputs": [
        {
          "output_type": "stream",
          "name": "stdout",
          "text": [
            "Downloaded: CESInitialDB.json\n"
          ]
        },
        {
          "output_type": "error",
          "ename": "ValueError",
          "evalue": "Failed to validate account data: 1 validation error for CustomerAccountDetails\nservices\n  Input should be a valid list [type=list_type, input_value={'SVC-P002': {'serviceId'..., 'activeFeatures': {}}}, input_type=dict]\n    For further information visit https://errors.pydantic.dev/2.11/v/list_type",
          "traceback": [
            "\u001b[0;31m---------------------------------------------------------------------------\u001b[0m",
            "\u001b[0;31mValidationError\u001b[0m                           Traceback (most recent call last)",
            "\u001b[0;32m/content/APIs/ces_account_management/account_management.py\u001b[0m in \u001b[0;36mget_customer_account_details\u001b[0;34m(accountId)\u001b[0m\n\u001b[1;32m     98\u001b[0m     \u001b[0;32mtry\u001b[0m\u001b[0;34m:\u001b[0m\u001b[0;34m\u001b[0m\u001b[0;34m\u001b[0m\u001b[0m\n\u001b[0;32m---> 99\u001b[0;31m         \u001b[0mvalidated_model\u001b[0m \u001b[0;34m=\u001b[0m \u001b[0mCustomerAccountDetails\u001b[0m\u001b[0;34m(\u001b[0m\u001b[0;34m**\u001b[0m\u001b[0maccount_details\u001b[0m\u001b[0;34m)\u001b[0m\u001b[0;34m\u001b[0m\u001b[0;34m\u001b[0m\u001b[0m\n\u001b[0m\u001b[1;32m    100\u001b[0m         \u001b[0;32mreturn\u001b[0m \u001b[0mvalidated_model\u001b[0m\u001b[0;34m.\u001b[0m\u001b[0mmodel_dump\u001b[0m\u001b[0;34m(\u001b[0m\u001b[0mmode\u001b[0m\u001b[0;34m=\u001b[0m\u001b[0;34m\"json\"\u001b[0m\u001b[0;34m)\u001b[0m\u001b[0;34m\u001b[0m\u001b[0;34m\u001b[0m\u001b[0m\n",
            "\u001b[0;32m/usr/local/lib/python3.12/dist-packages/pydantic/main.py\u001b[0m in \u001b[0;36m__init__\u001b[0;34m(self, **data)\u001b[0m\n\u001b[1;32m    252\u001b[0m         \u001b[0m__tracebackhide__\u001b[0m \u001b[0;34m=\u001b[0m \u001b[0;32mTrue\u001b[0m\u001b[0;34m\u001b[0m\u001b[0;34m\u001b[0m\u001b[0m\n\u001b[0;32m--> 253\u001b[0;31m         \u001b[0mvalidated_self\u001b[0m \u001b[0;34m=\u001b[0m \u001b[0mself\u001b[0m\u001b[0;34m.\u001b[0m\u001b[0m__pydantic_validator__\u001b[0m\u001b[0;34m.\u001b[0m\u001b[0mvalidate_python\u001b[0m\u001b[0;34m(\u001b[0m\u001b[0mdata\u001b[0m\u001b[0;34m,\u001b[0m \u001b[0mself_instance\u001b[0m\u001b[0;34m=\u001b[0m\u001b[0mself\u001b[0m\u001b[0;34m)\u001b[0m\u001b[0;34m\u001b[0m\u001b[0;34m\u001b[0m\u001b[0m\n\u001b[0m\u001b[1;32m    254\u001b[0m         \u001b[0;32mif\u001b[0m \u001b[0mself\u001b[0m \u001b[0;32mis\u001b[0m \u001b[0;32mnot\u001b[0m \u001b[0mvalidated_self\u001b[0m\u001b[0;34m:\u001b[0m\u001b[0;34m\u001b[0m\u001b[0;34m\u001b[0m\u001b[0m\n",
            "\u001b[0;31mValidationError\u001b[0m: 1 validation error for CustomerAccountDetails\nservices\n  Input should be a valid list [type=list_type, input_value={'SVC-P002': {'serviceId'..., 'activeFeatures': {}}}, input_type=dict]\n    For further information visit https://errors.pydantic.dev/2.11/v/list_type",
            "\nDuring handling of the above exception, another exception occurred:\n",
            "\u001b[0;31mValueError\u001b[0m                                Traceback (most recent call last)",
            "\u001b[0;32m/tmp/ipython-input-3790161200.py\u001b[0m in \u001b[0;36m<cell line: 0>\u001b[0;34m()\u001b[0m\n\u001b[1;32m     26\u001b[0m \u001b[0mces_account_management\u001b[0m\u001b[0;34m.\u001b[0m\u001b[0mload_state\u001b[0m\u001b[0;34m(\u001b[0m\u001b[0;34m'CESInitialDB.json'\u001b[0m\u001b[0;34m)\u001b[0m\u001b[0;34m\u001b[0m\u001b[0;34m\u001b[0m\u001b[0m\n\u001b[1;32m     27\u001b[0m \u001b[0;34m\u001b[0m\u001b[0m\n\u001b[0;32m---> 28\u001b[0;31m \u001b[0mget_customer_account_details\u001b[0m\u001b[0;34m(\u001b[0m\u001b[0;34m**\u001b[0m\u001b[0;34m{\u001b[0m\u001b[0;34m'accountId'\u001b[0m\u001b[0;34m:\u001b[0m \u001b[0;34m'24681357'\u001b[0m\u001b[0;34m}\u001b[0m\u001b[0;34m)\u001b[0m\u001b[0;34m\u001b[0m\u001b[0;34m\u001b[0m\u001b[0m\n\u001b[0m\u001b[1;32m     29\u001b[0m \u001b[0mcheck_device_upgrade_eligibility\u001b[0m\u001b[0;34m(\u001b[0m\u001b[0;34m**\u001b[0m\u001b[0;34m{\u001b[0m\u001b[0;34m'accountId'\u001b[0m\u001b[0;34m:\u001b[0m \u001b[0;34m'24681357'\u001b[0m\u001b[0;34m,\u001b[0m \u001b[0;34m'identifierType'\u001b[0m\u001b[0;34m:\u001b[0m \u001b[0;34m'LINE_NUMBER'\u001b[0m\u001b[0;34m,\u001b[0m \u001b[0;34m'identifier'\u001b[0m\u001b[0;34m:\u001b[0m \u001b[0;34m'555-0331'\u001b[0m\u001b[0;34m}\u001b[0m\u001b[0;34m)\u001b[0m\u001b[0;34m\u001b[0m\u001b[0;34m\u001b[0m\u001b[0m\n",
            "\u001b[0;32m/content/APIs/common_utils/error_handling.py\u001b[0m in \u001b[0;36mwrapper\u001b[0;34m(*args, **kwargs)\u001b[0m\n\u001b[1;32m    330\u001b[0m                 \u001b[0;31m# For natural errors, original_func_path is None,\u001b[0m\u001b[0;34m\u001b[0m\u001b[0;34m\u001b[0m\u001b[0m\n\u001b[1;32m    331\u001b[0m                 \u001b[0;31m# so the module/function will be derived from the traceback.\u001b[0m\u001b[0;34m\u001b[0m\u001b[0;34m\u001b[0m\u001b[0m\n\u001b[0;32m--> 332\u001b[0;31m                 return error_format_handler(\n\u001b[0m\u001b[1;32m    333\u001b[0m                     \u001b[0mcaught_exception\u001b[0m\u001b[0;34m,\u001b[0m\u001b[0;34m\u001b[0m\u001b[0;34m\u001b[0m\u001b[0m\n\u001b[1;32m    334\u001b[0m                     \u001b[0mfunc_module_name\u001b[0m\u001b[0;34m,\u001b[0m\u001b[0;34m\u001b[0m\u001b[0;34m\u001b[0m\u001b[0m\n",
            "\u001b[0;32m/content/APIs/common_utils/error_handling.py\u001b[0m in \u001b[0;36merror_format_handler\u001b[0;34m(caught_exception, func_module_name, include_mini_traceback_for_causes, original_func_path, service_name)\u001b[0m\n\u001b[1;32m    259\u001b[0m             \u001b[0mprint_log\u001b[0m\u001b[0;34m(\u001b[0m\u001b[0mjson\u001b[0m\u001b[0;34m.\u001b[0m\u001b[0mdumps\u001b[0m\u001b[0;34m(\u001b[0m\u001b[0mformatted_error\u001b[0m\u001b[0;34m,\u001b[0m \u001b[0mindent\u001b[0m\u001b[0;34m=\u001b[0m\u001b[0;36m2\u001b[0m\u001b[0;34m)\u001b[0m\u001b[0;34m)\u001b[0m\u001b[0;34m\u001b[0m\u001b[0;34m\u001b[0m\u001b[0m\n\u001b[1;32m    260\u001b[0m             \u001b[0mprint_log\u001b[0m\u001b[0;34m(\u001b[0m\u001b[0;34m\"-------------------------------\"\u001b[0m\u001b[0;34m)\u001b[0m\u001b[0;34m\u001b[0m\u001b[0;34m\u001b[0m\u001b[0m\n\u001b[0;32m--> 261\u001b[0;31m         \u001b[0;32mraise\u001b[0m \u001b[0mcaught_exception\u001b[0m \u001b[0;31m# Re-raise the original exception\u001b[0m\u001b[0;34m\u001b[0m\u001b[0;34m\u001b[0m\u001b[0m\n\u001b[0m\u001b[1;32m    262\u001b[0m \u001b[0;34m\u001b[0m\u001b[0m\n\u001b[1;32m    263\u001b[0m \u001b[0;34m\u001b[0m\u001b[0m\n",
            "\u001b[0;32m/content/APIs/common_utils/error_handling.py\u001b[0m in \u001b[0;36mwrapper\u001b[0;34m(*args, **kwargs)\u001b[0m\n\u001b[1;32m    325\u001b[0m \u001b[0;34m\u001b[0m\u001b[0m\n\u001b[1;32m    326\u001b[0m             \u001b[0;32mtry\u001b[0m\u001b[0;34m:\u001b[0m\u001b[0;34m\u001b[0m\u001b[0;34m\u001b[0m\u001b[0m\n\u001b[0;32m--> 327\u001b[0;31m                 \u001b[0;32mreturn\u001b[0m \u001b[0mfunc_to_decorate\u001b[0m\u001b[0;34m(\u001b[0m\u001b[0;34m*\u001b[0m\u001b[0margs\u001b[0m\u001b[0;34m,\u001b[0m \u001b[0;34m**\u001b[0m\u001b[0mkwargs\u001b[0m\u001b[0;34m)\u001b[0m\u001b[0;34m\u001b[0m\u001b[0;34m\u001b[0m\u001b[0m\n\u001b[0m\u001b[1;32m    328\u001b[0m             \u001b[0;32mexcept\u001b[0m \u001b[0mException\u001b[0m \u001b[0;32mas\u001b[0m \u001b[0mcaught_exception\u001b[0m\u001b[0;34m:\u001b[0m\u001b[0;34m\u001b[0m\u001b[0;34m\u001b[0m\u001b[0m\n\u001b[1;32m    329\u001b[0m                 \u001b[0;31m# Call the centralized processing function.\u001b[0m\u001b[0;34m\u001b[0m\u001b[0;34m\u001b[0m\u001b[0m\n",
            "\u001b[0;32m/content/APIs/common_utils/ErrorSimulation.py\u001b[0m in \u001b[0;36mno_op_wrapper\u001b[0;34m(*args, **kwargs)\u001b[0m\n\u001b[1;32m    322\u001b[0m                 \u001b[0;34m@\u001b[0m\u001b[0mfunctools\u001b[0m\u001b[0;34m.\u001b[0m\u001b[0mwraps\u001b[0m\u001b[0;34m(\u001b[0m\u001b[0moriginal_func\u001b[0m\u001b[0;34m)\u001b[0m\u001b[0;34m\u001b[0m\u001b[0;34m\u001b[0m\u001b[0m\n\u001b[1;32m    323\u001b[0m                 \u001b[0;32mdef\u001b[0m \u001b[0mno_op_wrapper\u001b[0m\u001b[0;34m(\u001b[0m\u001b[0;34m*\u001b[0m\u001b[0margs\u001b[0m\u001b[0;34m,\u001b[0m \u001b[0;34m**\u001b[0m\u001b[0mkwargs\u001b[0m\u001b[0;34m)\u001b[0m\u001b[0;34m:\u001b[0m\u001b[0;34m\u001b[0m\u001b[0;34m\u001b[0m\u001b[0m\n\u001b[0;32m--> 324\u001b[0;31m                     \u001b[0;32mreturn\u001b[0m \u001b[0moriginal_func\u001b[0m\u001b[0;34m(\u001b[0m\u001b[0;34m*\u001b[0m\u001b[0margs\u001b[0m\u001b[0;34m,\u001b[0m \u001b[0;34m**\u001b[0m\u001b[0mkwargs\u001b[0m\u001b[0;34m)\u001b[0m\u001b[0;34m\u001b[0m\u001b[0;34m\u001b[0m\u001b[0m\n\u001b[0m\u001b[1;32m    325\u001b[0m                 \u001b[0;32mreturn\u001b[0m \u001b[0mno_op_wrapper\u001b[0m\u001b[0;34m\u001b[0m\u001b[0;34m\u001b[0m\u001b[0m\n\u001b[1;32m    326\u001b[0m             \u001b[0;32mreturn\u001b[0m \u001b[0midentity_decorator\u001b[0m\u001b[0;34m\u001b[0m\u001b[0;34m\u001b[0m\u001b[0m\n",
            "\u001b[0;32m/content/APIs/common_utils/mutation_manager.py\u001b[0m in \u001b[0;36mwrapper\u001b[0;34m(*args, **kwargs)\u001b[0m\n\u001b[1;32m    415\u001b[0m                     \u001b[0mmutation_name\u001b[0m \u001b[0;34m=\u001b[0m \u001b[0mMutationManager\u001b[0m\u001b[0;34m.\u001b[0m\u001b[0mget_current_mutation_name_for_service\u001b[0m\u001b[0;34m(\u001b[0m\u001b[0mservice_name\u001b[0m\u001b[0;34m)\u001b[0m\u001b[0;34m\u001b[0m\u001b[0;34m\u001b[0m\u001b[0m\n\u001b[1;32m    416\u001b[0m                     \u001b[0;32mif\u001b[0m \u001b[0;32mnot\u001b[0m \u001b[0mmutation_name\u001b[0m\u001b[0;34m:\u001b[0m \u001b[0;31m# pragma: no cover\u001b[0m\u001b[0;34m\u001b[0m\u001b[0;34m\u001b[0m\u001b[0m\n\u001b[0;32m--> 417\u001b[0;31m                         \u001b[0;32mraise\u001b[0m \u001b[0me\u001b[0m\u001b[0;34m\u001b[0m\u001b[0;34m\u001b[0m\u001b[0m\n\u001b[0m\u001b[1;32m    418\u001b[0m \u001b[0;34m\u001b[0m\u001b[0m\n\u001b[1;32m    419\u001b[0m                     \u001b[0mservice_root\u001b[0m \u001b[0;34m=\u001b[0m \u001b[0mMutationManager\u001b[0m\u001b[0;34m.\u001b[0m\u001b[0m_get_service_root\u001b[0m\u001b[0;34m(\u001b[0m\u001b[0mservice_name\u001b[0m\u001b[0;34m)\u001b[0m\u001b[0;34m\u001b[0m\u001b[0;34m\u001b[0m\u001b[0m\n",
            "\u001b[0;32m/content/APIs/common_utils/mutation_manager.py\u001b[0m in \u001b[0;36mwrapper\u001b[0;34m(*args, **kwargs)\u001b[0m\n\u001b[1;32m    411\u001b[0m             \u001b[0;32mdef\u001b[0m \u001b[0mwrapper\u001b[0m\u001b[0;34m(\u001b[0m\u001b[0;34m*\u001b[0m\u001b[0margs\u001b[0m\u001b[0;34m:\u001b[0m \u001b[0mAny\u001b[0m\u001b[0;34m,\u001b[0m \u001b[0;34m**\u001b[0m\u001b[0mkwargs\u001b[0m\u001b[0;34m:\u001b[0m \u001b[0mAny\u001b[0m\u001b[0;34m)\u001b[0m \u001b[0;34m->\u001b[0m \u001b[0mAny\u001b[0m\u001b[0;34m:\u001b[0m\u001b[0;34m\u001b[0m\u001b[0;34m\u001b[0m\u001b[0m\n\u001b[1;32m    412\u001b[0m                 \u001b[0;32mtry\u001b[0m\u001b[0;34m:\u001b[0m\u001b[0;34m\u001b[0m\u001b[0;34m\u001b[0m\u001b[0m\n\u001b[0;32m--> 413\u001b[0;31m                     \u001b[0;32mreturn\u001b[0m \u001b[0mfunc\u001b[0m\u001b[0;34m(\u001b[0m\u001b[0;34m*\u001b[0m\u001b[0margs\u001b[0m\u001b[0;34m,\u001b[0m \u001b[0;34m**\u001b[0m\u001b[0mkwargs\u001b[0m\u001b[0;34m)\u001b[0m\u001b[0;34m\u001b[0m\u001b[0;34m\u001b[0m\u001b[0m\n\u001b[0m\u001b[1;32m    414\u001b[0m                 \u001b[0;32mexcept\u001b[0m \u001b[0mException\u001b[0m \u001b[0;32mas\u001b[0m \u001b[0me\u001b[0m\u001b[0;34m:\u001b[0m\u001b[0;34m\u001b[0m\u001b[0;34m\u001b[0m\u001b[0m\n\u001b[1;32m    415\u001b[0m                     \u001b[0mmutation_name\u001b[0m \u001b[0;34m=\u001b[0m \u001b[0mMutationManager\u001b[0m\u001b[0;34m.\u001b[0m\u001b[0mget_current_mutation_name_for_service\u001b[0m\u001b[0;34m(\u001b[0m\u001b[0mservice_name\u001b[0m\u001b[0;34m)\u001b[0m\u001b[0;34m\u001b[0m\u001b[0;34m\u001b[0m\u001b[0m\n",
            "\u001b[0;32m/content/APIs/common_utils/tool_spec_decorator.py\u001b[0m in \u001b[0;36mwrapper\u001b[0;34m(*args, **kwargs)\u001b[0m\n\u001b[1;32m     76\u001b[0m             \u001b[0;34m@\u001b[0m\u001b[0mwraps\u001b[0m\u001b[0;34m(\u001b[0m\u001b[0mfunc\u001b[0m\u001b[0;34m)\u001b[0m\u001b[0;34m\u001b[0m\u001b[0;34m\u001b[0m\u001b[0m\n\u001b[1;32m     77\u001b[0m             \u001b[0;32mdef\u001b[0m \u001b[0mwrapper\u001b[0m\u001b[0;34m(\u001b[0m\u001b[0;34m*\u001b[0m\u001b[0margs\u001b[0m\u001b[0;34m,\u001b[0m \u001b[0;34m**\u001b[0m\u001b[0mkwargs\u001b[0m\u001b[0;34m)\u001b[0m\u001b[0;34m:\u001b[0m\u001b[0;34m\u001b[0m\u001b[0;34m\u001b[0m\u001b[0m\n\u001b[0;32m---> 78\u001b[0;31m                 \u001b[0;32mreturn\u001b[0m \u001b[0mfunc\u001b[0m\u001b[0;34m(\u001b[0m\u001b[0;34m*\u001b[0m\u001b[0margs\u001b[0m\u001b[0;34m,\u001b[0m \u001b[0;34m**\u001b[0m\u001b[0mkwargs\u001b[0m\u001b[0;34m)\u001b[0m\u001b[0;34m\u001b[0m\u001b[0;34m\u001b[0m\u001b[0m\n\u001b[0m\u001b[1;32m     79\u001b[0m             \u001b[0;31m# Attach the spec dictionary directly to the wrapper.\u001b[0m\u001b[0;34m\u001b[0m\u001b[0;34m\u001b[0m\u001b[0m\n\u001b[1;32m     80\u001b[0m             \u001b[0mwrapper\u001b[0m\u001b[0;34m.\u001b[0m\u001b[0mspec\u001b[0m \u001b[0;34m=\u001b[0m \u001b[0mspec\u001b[0m\u001b[0;34m\u001b[0m\u001b[0;34m\u001b[0m\u001b[0m\n",
            "\u001b[0;32m/content/APIs/ces_account_management/account_management.py\u001b[0m in \u001b[0;36mget_customer_account_details\u001b[0;34m(accountId)\u001b[0m\n\u001b[1;32m    100\u001b[0m         \u001b[0;32mreturn\u001b[0m \u001b[0mvalidated_model\u001b[0m\u001b[0;34m.\u001b[0m\u001b[0mmodel_dump\u001b[0m\u001b[0;34m(\u001b[0m\u001b[0mmode\u001b[0m\u001b[0;34m=\u001b[0m\u001b[0;34m\"json\"\u001b[0m\u001b[0;34m)\u001b[0m\u001b[0;34m\u001b[0m\u001b[0;34m\u001b[0m\u001b[0m\n\u001b[1;32m    101\u001b[0m     \u001b[0;32mexcept\u001b[0m \u001b[0mException\u001b[0m \u001b[0;32mas\u001b[0m \u001b[0me\u001b[0m\u001b[0;34m:\u001b[0m\u001b[0;34m\u001b[0m\u001b[0;34m\u001b[0m\u001b[0m\n\u001b[0;32m--> 102\u001b[0;31m         \u001b[0;32mraise\u001b[0m \u001b[0mValueError\u001b[0m\u001b[0;34m(\u001b[0m\u001b[0;34mf\"Failed to validate account data: {str(e)}\"\u001b[0m\u001b[0;34m)\u001b[0m\u001b[0;34m\u001b[0m\u001b[0;34m\u001b[0m\u001b[0m\n\u001b[0m\u001b[1;32m    103\u001b[0m \u001b[0;34m\u001b[0m\u001b[0m\n\u001b[1;32m    104\u001b[0m \u001b[0;34m\u001b[0m\u001b[0m\n",
            "\u001b[0;31mValueError\u001b[0m: Failed to validate account data: 1 validation error for CustomerAccountDetails\nservices\n  Input should be a valid list [type=list_type, input_value={'SVC-P002': {'serviceId'..., 'activeFeatures': {}}}, input_type=dict]\n    For further information visit https://errors.pydantic.dev/2.11/v/list_type"
          ]
        }
      ],
      "source": [
        "# import APIs and initialize DBs\n",
        "from ces_account_management import *\n",
        "import ces_account_management\n",
        "\n",
        "def download_json_from_gdrive(gdrive_url: str, output_filename: str = \"CESInitialDB.json\"):\n",
        "    match = re.search(r\"/d/([a-zA-Z0-9_-]+)\", gdrive_url)\n",
        "    if not match:\n",
        "        raise ValueError(\"Invalid Google Drive link format.\")\n",
        "    file_id = match.group(1)\n",
        "\n",
        "    # Download the file\n",
        "    request = drive_service.files().get_media(fileId=file_id)\n",
        "    fh = io.FileIO(output_filename, \"wb\")\n",
        "    downloader = MediaIoBaseDownload(fh, request)\n",
        "\n",
        "    done = False\n",
        "    while not done:\n",
        "        status, done = downloader.next_chunk()\n",
        "\n",
        "    print(f\"Downloaded: {output_filename}\")\n",
        "\n",
        "\n",
        "gdrive_link = \"https://drive.google.com/file/d/1_lrPs5kcmj0WbTRV6-TXFmc2HGEMqO2k/view?usp=sharing\"\n",
        "download_json_from_gdrive(gdrive_link)\n",
        "\n",
        "ces_account_management.load_state('CESInitialDB.json')\n",
        "\n",
        "get_customer_account_details(**{'accountId': '24681357'})\n",
        "check_device_upgrade_eligibility(**{'accountId': '24681357', 'identifierType': 'LINE_NUMBER', 'identifier': '555-0331'})"
      ]
    },
    {
      "cell_type": "markdown",
      "id": "eb505311",
      "metadata": {
        "id": "eb505311"
      },
      "source": [
        "# Initial Assertion"
      ]
    },
    {
      "cell_type": "code",
      "execution_count": null,
      "id": "8242ac23",
      "metadata": {
        "id": "8242ac23"
      },
      "outputs": [],
      "source": []
    },
    {
      "cell_type": "markdown",
      "id": "4a3c530b",
      "metadata": {
        "id": "4a3c530b"
      },
      "source": [
        "# Action"
      ]
    },
    {
      "cell_type": "code",
      "execution_count": null,
      "id": "ed0d7027",
      "metadata": {
        "id": "ed0d7027"
      },
      "outputs": [],
      "source": [
        "from ces_account_management import *"
      ]
    },
    {
      "cell_type": "code",
      "execution_count": null,
      "id": "bb16891f",
      "metadata": {
        "id": "bb16891f"
      },
      "outputs": [],
      "source": [
        "query_available_plans_and_features(**{'query': 'upgrade promotions'})"
      ]
    },
    {
      "cell_type": "markdown",
      "id": "5c64ee03",
      "metadata": {
        "id": "5c64ee03"
      },
      "source": [
        "# Golden Answer"
      ]
    },
    {
      "cell_type": "markdown",
      "id": "f1c38368",
      "metadata": {
        "id": "f1c38368"
      },
      "source": [
        "We have two great promotions available. First, you can upgrade to our popular Unlimited Data Plan for just \\$50/month to enjoy your new phone without data limits. Second, you can protect your new investment with Device Protection Plus, which covers accidental damage and extended warranty for one device, for only \\$11.99/month. Is there anything else I can help you with today?"
      ]
    },
    {
      "cell_type": "markdown",
      "id": "d955cb3f",
      "metadata": {
        "id": "d955cb3f"
      },
      "source": [
        "# Final Assertion"
      ]
    }
  ],
  "metadata": {
    "colab": {
      "provenance": []
    },
    "language_info": {
      "name": "python"
    },
    "kernelspec": {
      "name": "python3",
      "display_name": "Python 3"
    }
  },
  "nbformat": 4,
  "nbformat_minor": 5
}