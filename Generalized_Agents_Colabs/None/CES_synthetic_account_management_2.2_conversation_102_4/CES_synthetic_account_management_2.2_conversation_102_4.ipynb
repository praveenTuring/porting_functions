{
 "cells": [
  {
   "cell_type": "markdown",
   "id": "857f01d6",
   "metadata": {},
   "source": [
    "\n",
    "**Sample ID:** CES_synthetic_account_management_2.2_conversation_102_4\n",
    "\n",
    "**Query:** My phone number is (555) 321-7654.\n",
    "\n",
    "**DB Type:** Base Case\n",
    "\n",
    "**Case Description:**\n",
    "```\n",
    "                <additional_data>\n",
    "    <query>Hello</query>\n",
    "    <model_response/>\n",
    "    <query>My phone number is (555) 321-7654.</query>\n",
    "    <model_response/>\n",
    "</additional_data>\n",
    "\n",
    "                ```\n",
    "**Global/Context Variables:**\n",
    "\n",
    "**Datetime Context Variables:**\n",
    "\n",
    "**APIs:**\n",
    "\n",
    "**Databases:**"
   ]
  },
  {
   "cell_type": "markdown",
   "id": "986977ae",
   "metadata": {},
   "source": [
    "# Set Up"
   ]
  },
  {
   "cell_type": "markdown",
   "id": "b3ed77cc",
   "metadata": {},
   "source": [
    "## Download relevant files"
   ]
  },
  {
   "cell_type": "code",
   "execution_count": null,
   "id": "3b8a8ca9",
   "metadata": {},
   "outputs": [],
   "source": [
    "import io\n",
    "import os\n",
    "import sys\n",
    "import zipfile\n",
    "import shutil\n",
    "import re\n",
    "from google.colab import auth\n",
    "from googleapiclient.discovery import build\n",
    "from googleapiclient.http import MediaIoBaseDownload\n",
    "\n",
    "VERSION = \"0.1.2\"  # Pass the version of the API\n",
    "CONTENT_DIR = '/content'\n",
    "APIS_DIR = os.path.join(CONTENT_DIR, 'APIs')\n",
    "DBS_DIR = os.path.join(CONTENT_DIR, 'DBs')\n",
    "SCRIPTS_DIR = os.path.join(CONTENT_DIR, 'Scripts')\n",
    "FC_DIR = os.path.join(CONTENT_DIR, 'Schemas')\n",
    "ZIP_PATH = os.path.join(CONTENT_DIR, f'APIs_V{VERSION}.zip')\n",
    "\n",
    "APIS_FOLDER_ID = '1QpkAZxXhVFzIbm8qPGPRP1YqXEvJ4uD4'\n",
    "ITEMS_TO_EXTRACT = ['APIs/', 'DBs/', 'Scripts/', 'Schemas/']\n",
    "\n",
    "# Cleanup\n",
    "for path in [APIS_DIR, DBS_DIR, SCRIPTS_DIR, FC_DIR, ZIP_PATH]:\n",
    "    if os.path.exists(path):\n",
    "        if os.path.isdir(path):\n",
    "            shutil.rmtree(path)\n",
    "        else:\n",
    "            os.remove(path)\n",
    "\n",
    "# Auth\n",
    "auth.authenticate_user()\n",
    "drive_service = build('drive', 'v3')\n",
    "\n",
    "def download_drive_file(service, file_id, output_path, file_name=None, show_progress=True):\n",
    "    request = service.files().get_media(fileId=file_id)\n",
    "    with io.FileIO(output_path, 'wb') as fh:\n",
    "        downloader = MediaIoBaseDownload(fh, request)\n",
    "        done = False\n",
    "        while not done:\n",
    "            status, done = downloader.next_chunk()\n",
    "            if show_progress:\n",
    "                print(f\"Download progress: {int(status.progress() * 100)}%\")\n",
    "\n",
    "print(f\"Searching for APIs zip file with version {VERSION} in folder: {APIS_FOLDER_ID}...\")\n",
    "apis_file_id = None\n",
    "try:\n",
    "    query = f\"'{APIS_FOLDER_ID}' in parents and trashed=false\"\n",
    "    results = drive_service.files().list(q=query, fields=\"files(id, name)\").execute()\n",
    "    for file in results.get('files', []):\n",
    "        if file['name'].lower() == f'apis_v{VERSION.lower()}.zip':\n",
    "            apis_file_id = file['id']\n",
    "            print(f\"Found: {file['name']} (ID: {apis_file_id})\")\n",
    "            break\n",
    "except Exception as e:\n",
    "    print(f\"Error listing files: {e}\")\n",
    "\n",
    "if not apis_file_id:\n",
    "    sys.exit(f\"❌ APIs zip V{VERSION} not found.\")\n",
    "\n",
    "print(f\"Downloading APIs zip {apis_file_id}...\")\n",
    "download_drive_file(drive_service, apis_file_id, ZIP_PATH)\n",
    "\n",
    "print(f\"Extracting {ZIP_PATH}...\")\n",
    "with zipfile.ZipFile(ZIP_PATH, 'r') as zip_ref:\n",
    "    for member in zip_ref.namelist():\n",
    "        if any(member.startswith(p) for p in ITEMS_TO_EXTRACT):\n",
    "            zip_ref.extract(member, CONTENT_DIR)\n",
    "\n",
    "os.remove(ZIP_PATH)\n",
    "\n",
    "if os.path.exists(APIS_DIR):\n",
    "    sys.path.append(APIS_DIR)\n",
    "\n",
    "for p in [APIS_DIR, DBS_DIR, SCRIPTS_DIR]:\n",
    "    print(f\"{'✅' if os.path.exists(p) else '❌'} {p}\")"
   ]
  },
  {
   "cell_type": "markdown",
   "id": "aaed9dec",
   "metadata": {},
   "source": [
    "## Install Dependencies and Clone Repositories"
   ]
  },
  {
   "cell_type": "code",
   "execution_count": null,
   "id": "14d4a0a5",
   "metadata": {},
   "outputs": [],
   "source": [
    "\n",
    "!pip install -r /content/APIs/requirements.txt\n"
   ]
  },
  {
   "cell_type": "markdown",
   "id": "e4fbb2a9",
   "metadata": {},
   "source": [
    "# Import APIs and initiate DBs"
   ]
  },
  {
   "cell_type": "code",
   "execution_count": null,
   "id": "2b70a9e0",
   "metadata": {},
   "outputs": [],
   "source": [
    "# import APIs and initialize DBs"
   ]
  },
  {
   "cell_type": "markdown",
   "id": "f92db05e",
   "metadata": {},
   "source": [
    "# Initial Assertion"
   ]
  },
  {
   "cell_type": "code",
   "execution_count": null,
   "id": "ed23d0bb",
   "metadata": {},
   "outputs": [],
   "source": []
  },
  {
   "cell_type": "markdown",
   "id": "5cb95124",
   "metadata": {},
   "source": [
    "# Action"
   ]
  },
  {
   "cell_type": "code",
   "execution_count": null,
   "id": "022b252d",
   "metadata": {},
   "outputs": [],
   "source": []
  },
  {
   "cell_type": "markdown",
   "id": "e134c98e",
   "metadata": {},
   "source": [
    "# Golden Answer"
   ]
  },
  {
   "cell_type": "markdown",
   "id": "60117452",
   "metadata": {},
   "source": [
    "FUNCTION_CALL: get_customer_account_details(args={'accountId': '(555) 321-7654'})\n",
    "FUNCTION_RESPONSE: get_customer_account_details(response={'accountId': '(555) 321-7654',\n",
    " 'billingAddress': {'city': 'Mountain View',\n",
    "  'country': 'USA',\n",
    "  'recipientName': 'Chris Miller',\n",
    "  'state': 'CA',\n",
    "  'streetAddressLine1': '654 Spruce Dr',\n",
    "  'streetAddressLine2': 'None',\n",
    "  'zipCode': '94043'},\n",
    " 'communicationPreferences': {'emailOptIn': False, 'smsOptIn': False},\n",
    " 'contactEmail': 'chris.miller@web.net',\n",
    " 'contactPhone': '(555) 321-7654',\n",
    " 'customerName': 'Chris Miller',\n",
    " 'devices': [{'deviceId': 'DEV007A',\n",
    "   'deviceName': 'OnePlus 12',\n",
    "   'lineNumber': '(555) 321-7654',\n",
    "   'paymentPlanActive': True,\n",
    "   'paymentPlanRemainingMonths': 9,\n",
    "   'upgradeEligibilityDate': '2025-02-14'}],\n",
    " 'isVerified': True,\n",
    " 'securityPinSet': True,\n",
    " 'serviceAddress': {'city': 'Mountain View',\n",
    "  'country': 'USA',\n",
    "  'recipientName': 'Chris Miller',\n",
    "  'state': 'CA',\n",
    "  'streetAddressLine1': '654 Spruce Dr',\n",
    "  'streetAddressLine2': 'None',\n",
    "  'zipCode': '94043'},\n",
    " 'services': [{'planId': 'P003',\n",
    "   'planName': 'Unlimited Data Plan',\n",
    "   'dataAllowance': 'Unlimited',\n",
    "   'monthlyCost': 50.0,\n",
    "   'serviceId': 'SVC007A',\n",
    "   'activeFeatures': [{'featureId': 'F001',\n",
    "     'featureName': 'International Calling Pack',\n",
    "     'monthlyCost': 10.0},\n",
    "    {'featureId': 'F002',\n",
    "     'featureName': 'Mobile Hotspot Add-on (5GB)',\n",
    "     'monthlyCost': 12.0},\n",
    "    {'featureId': 'F005',\n",
    "     'featureName': 'Unlimited International Texting',\n",
    "     'monthlyCost': 7.5}]}]})\n",
    "Thank you. For security, can you please confirm the full name on the account?"
   ]
  },
  {
   "cell_type": "markdown",
   "id": "982f1c5a",
   "metadata": {},
   "source": [
    "# Final Assertion"
   ]
  }
 ],
 "metadata": {},
 "nbformat": 4,
 "nbformat_minor": 5
}